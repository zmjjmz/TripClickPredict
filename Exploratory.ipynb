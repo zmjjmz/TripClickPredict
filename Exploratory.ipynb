{
 "cells": [
  {
   "cell_type": "code",
   "execution_count": 1,
   "metadata": {
    "collapsed": true
   },
   "outputs": [],
   "source": [
    "import csv\n",
    "import numpy as np\n",
    "from collections import defaultdict\n",
    "import matplotlib.pyplot as plt\n",
    "%matplotlib inline"
   ]
  },
  {
   "cell_type": "markdown",
   "metadata": {},
   "source": [
    "# Predicting Hotel Clicks\n",
    "\n",
    "## Data Caveats\n",
    "\n",
    "- The order of clicks given in the 'activity' log is meaningless\n",
    "- We do not know which hotels a user has seen but not clicked on, only those which the user clicked on\n",
    "- It is possible, but according to the data extremely unlikely, for a user to click on a hotel twice\n",
    "\n",
    "## Using user / hotel features\n",
    "\n",
    "### Naive approach\n",
    "\n",
    "Take as independent variables: user gender, user continent, and hotel rating to predict whether or not a user will click on the hotel.\n",
    "\n",
    "#### Issues:\n",
    "\n",
    "- Obviously this discounts a user's click history, which is not ideal.\n",
    "- It's not clear that a user not clicking on a hotel means that they wouldn't click on that hotel.\n",
    "    - This means that we have to generate negative examples which will be incorrect.\n",
    "    - For this reason I won't be exploring this\n",
    "\n",
    "### Predicting hotel likelihood by rating\n",
    "\n",
    "Instead of using the hotel rating as input, we make it the dependent variable and see if we can predict what hotel they will click on next by finding the one with the rating closest to what the model thinks the user's preference is.\n",
    "\n",
    "#### Issues:\n",
    "\n",
    "- Still disregards click history.\n",
    "    - Taking into this account might be the next step. \n",
    "    - Could, for example, use the average rating of hotels that the user has previously clicked on\n",
    "        - This won't work as we can't really say which hotels a user has previously clicked on with the data given\n",
    "- The idea of finding the closest hotel by rating is also deeply flawed, as most hotels have a rating of 3.5 / 4, so we won't be able to easily distinguish hotels by rating.\n",
    "- Results: Models tried learn only to predict the mean (i.e. both a Decision Tree and Linear Regression give an R^2 near 0), implying that there's no real correlation in the sample to learn on\n",
    "\n",
    "## Using Collaborative Filtering\n",
    "\n",
    "### Naive approach\n",
    "\n",
    "Make a user-hotel matrix, filling in whether or not a user has clicked on a hotel. For each user, find 'similar' users by which hotels they clicked on (i.e. find the other user that correlates highly with this user), and see which hotel they are most likely to click on next\n",
    "\n",
    "#### Issues: \n",
    "\n",
    "- Same issue as in naive approach where we don't know if a user has viewed the hotel but decided not to click on it\n",
    "    - Workaround: treat all non-clicks as unknowns instead of refusal to click\n",
    "- Users may click on the same hotel twice, which we wouldn't really handle very well\n",
    "    - This only happens once in the data, so we can safely ignore it\n",
    "- It looks like users click on about ~4 hotels on average, which means that we're going to have a very sparse matrix to fill in.\n",
    "- Not taking into account hotel ratings or user information may be suboptimal\n",
    "    - It would appear that this information may not be as important to the task as previously thought."
   ]
  },
  {
   "cell_type": "code",
   "execution_count": 2,
   "metadata": {
    "collapsed": true
   },
   "outputs": [],
   "source": [
    "# Let's do some data exploration to answer a few questions\n",
    "\n",
    "def load_tsv(fn):\n",
    "    #result = defaultdict(lambda : [])\n",
    "    with open(fn, 'r') as f:\n",
    "        reader = csv.DictReader(f, delimiter='\\t')\n",
    "        result = {field:[] for field in reader.fieldnames}\n",
    "        for row in reader:\n",
    "            for field in row:\n",
    "                result[field].append(row[field])\n",
    "    return result\n",
    "\n",
    "all_activity = load_tsv('activity.txt')\n",
    "all_hotels = load_tsv('hotels.txt')\n",
    "all_users = load_tsv('users.txt')\n",
    "\n",
    "# setup reverse maps for categorical variables\n",
    "all_continents = sorted(list(set(all_users['home continent'])))\n",
    "all_gender = sorted(list(set(all_users['gender'])))\n",
    "continents_rind = {continent:ind for ind, continent in enumerate(all_continents)}\n",
    "gender_rind = {gender:ind for ind, gender in enumerate(all_gender)}"
   ]
  },
  {
   "cell_type": "code",
   "execution_count": 3,
   "metadata": {
    "collapsed": false
   },
   "outputs": [
    {
     "name": "stdout",
     "output_type": "stream",
     "text": [
      "['2', '2']\n",
      "4232\n",
      "3.79181338028169\n"
     ]
    }
   ],
   "source": [
    "# let's see how many users (if any) clicked on a hotel twice\n",
    "# we'll use all_activity for this:\n",
    "user_hotel_map = defaultdict(lambda : [])\n",
    "hotel_user_map = defaultdict(lambda : [])\n",
    "for user, hotel in zip(all_activity['user'], all_activity['hotel']):\n",
    "    user_hotel_map[user].append(hotel)\n",
    "    hotel_user_map[hotel].append(user)\n",
    "avg_clicks = 0\n",
    "for user in user_hotel_map:\n",
    "    # not the most efficient way to do this\n",
    "    if len(set(user_hotel_map[user])) < len(user_hotel_map[user]):\n",
    "        print(user_hotel_map[user])\n",
    "        print(user)\n",
    "    avg_clicks += len(user_hotel_map[user])\n",
    "avg_clicks /= len(user_hotel_map)\n",
    "print(avg_clicks)\n",
    "\n",
    "# So it looks like there's only one user that clicked on a hotel twice, which is weird\n",
    "# Generally though this means we can't assume that a user won't click on a hotel twice in our final predictions\n",
    "# What's the average amount of activity that we can expect from a user?"
   ]
  },
  {
   "cell_type": "code",
   "execution_count": 50,
   "metadata": {
    "collapsed": false
   },
   "outputs": [
    {
     "name": "stdout",
     "output_type": "stream",
     "text": [
      "2\n",
      "65\n",
      "3.19754029923\n",
      "2.0\n"
     ]
    },
    {
     "data": {
      "image/png": "[encoded data removed]",
      "text/plain": [
       "<matplotlib.figure.Figure at 0x7f94cdaae4e0>"
      ]
     },
     "metadata": {},
     "output_type": "display_data"
    }
   ],
   "source": [
    "# It would also appear that we have at least 2 clicks for every user\n",
    "print(min([len(user_hotel_map[user]) for user in user_hotel_map]))\n",
    "print(max([len(user_hotel_map[user]) for user in user_hotel_map]))\n",
    "print(np.std([len(user_hotel_map[user]) for user in user_hotel_map]))\n",
    "nclicks_histogram = np.histogram([len(user_hotel_map[user]) for user in user_hotel_map], range=(0,67), bins=67)\n",
    "plt.figure(figsize=(15,10))\n",
    "plt.bar(nclicks_histogram[1][:-1], nclicks_histogram[0], width=0.75)\n",
    "# What does this histogram of clicks look like? It appears that primarily users click on 2 hotels.\n",
    "print(nclicks_histogram[1][np.argmax(nclicks_histogram[0])])"
   ]
  },
  {
   "cell_type": "code",
   "execution_count": 5,
   "metadata": {
    "collapsed": false
   },
   "outputs": [
    {
     "name": "stderr",
     "output_type": "stream",
     "text": [
      "/usr/lib/python3.5/site-packages/sklearn/utils/fixes.py:64: DeprecationWarning: inspect.getargspec() is deprecated, use inspect.signature() instead\n",
      "  if 'order' in inspect.getargspec(np.copy)[0]:\n"
     ]
    }
   ],
   "source": [
    "# Let's build a training and validation each set consisting of a subset of users\n",
    "# We'll then filter the activity with these constraints into a train activity and validation activity\n",
    "\n",
    "# build train/valid\n",
    "from sklearn.cross_validation import train_test_split\n",
    "train_users, valid_users = tuple(map(set, train_test_split(all_users['user'], test_size=0.2)))"
   ]
  },
  {
   "cell_type": "code",
   "execution_count": 53,
   "metadata": {
    "collapsed": false
   },
   "outputs": [
    {
     "data": {
      "text/plain": [
       "<Container object of 10 artists>"
      ]
     },
     "execution_count": 53,
     "metadata": {},
     "output_type": "execute_result"
    },
    {
     "data": {
      "image/png": "[encoded data removed]",
      "text/plain": [
       "<matplotlib.figure.Figure at 0x7f94cd8a2780>"
      ]
     },
     "metadata": {},
     "output_type": "display_data"
    }
   ],
   "source": [
    "# Let's see a histogram of hotel ratings, to see if it is a meaningful measurement\n",
    "\n",
    "\n",
    "rating_histogram, bins = np.histogram(list(map(float, all_hotels['star_rating'])),\n",
    "                                     bins=10, range=(0,5))\n",
    "plt.bar(bins[1:], rating_histogram, width=0.25)"
   ]
  },
  {
   "cell_type": "code",
   "execution_count": 54,
   "metadata": {
    "collapsed": false
   },
   "outputs": [
    {
     "name": "stdout",
     "output_type": "stream",
     "text": [
      "3.5303030303\n",
      "4.0\n"
     ]
    }
   ],
   "source": [
    "print(np.average(list(map(float, all_hotels['star_rating']))))\n",
    "print(bins[np.argmax(rating_histogram)])"
   ]
  },
  {
   "cell_type": "code",
   "execution_count": 56,
   "metadata": {
    "collapsed": false
   },
   "outputs": [
    {
     "name": "stdout",
     "output_type": "stream",
     "text": [
      "0.299688091532\n",
      "Is it significant? True\n"
     ]
    },
    {
     "data": {
      "text/plain": [
       "<matplotlib.collections.PathCollection at 0x7f94cd77a2b0>"
      ]
     },
     "execution_count": 56,
     "metadata": {},
     "output_type": "execute_result"
    },
    {
     "data": {
      "image/png": "[encoded data removed]",
      "text/plain": [
       "<matplotlib.figure.Figure at 0x7f94cd8a28d0>"
      ]
     },
     "metadata": {},
     "output_type": "display_data"
    }
   ],
   "source": [
    "# Does the amount of clicks a hotel gets correlate well with its rating?\n",
    "hotel_rating_map = {hotel:float(rating) for hotel, rating in zip(all_hotels['hotel'], all_hotels['star_rating'])}\n",
    "ratings = []\n",
    "nclicks = []\n",
    "for hotel in hotel_user_map:\n",
    "    ratings.append(hotel_rating_map[hotel])\n",
    "    nclicks.append(len(hotel_user_map[hotel]))\n",
    "print(np.corrcoef(ratings, nclicks)[0,1])\n",
    "# calculate significance using simple t-test\n",
    "r = np.corrcoef(ratings, nclicks)[0,1]\n",
    "tval = r*np.sqrt((len(ratings)-2) / (1-r**2))\n",
    "print(\"Is it significant? %s\" % (tval > 2))\n",
    "# Let's plot it as well\n",
    "plt.scatter(nclicks, ratings)"
   ]
  },
  {
   "cell_type": "code",
   "execution_count": 8,
   "metadata": {
    "collapsed": false
   },
   "outputs": [],
   "source": [
    "# So it looks like there isn't a super strong correlation, which means that we can't just assume that highly\n",
    "# rated hotels will get more clicks"
   ]
  },
  {
   "cell_type": "code",
   "execution_count": 9,
   "metadata": {
    "collapsed": false
   },
   "outputs": [
    {
     "data": {
      "text/plain": [
       "<Container object of 10 artists>"
      ]
     },
     "execution_count": 9,
     "metadata": {},
     "output_type": "execute_result"
    },
    {
     "data": {
      "image/png": "[encoded data removed]",
      "text/plain": [
       "<matplotlib.figure.Figure at 0x7f94edcc8b00>"
      ]
     },
     "metadata": {},
     "output_type": "display_data"
    }
   ],
   "source": [
    "# Let's do the naive user feature approach, where we predict the rating of a hotel that a user is most likely\n",
    "# to click on based only on their non-historical features, i.e. continent and gender\n",
    "\n",
    "user_props_mat = {user:{'gender':gender,'cont':cont} for user, gender, cont in zip(all_users['user'],\n",
    "                                                                                   all_users['gender'],\n",
    "                                                                                   all_users['home continent'])}\n",
    "# let's move activity to tuples of user / hotel\n",
    "train_activity = []\n",
    "valid_activity = []\n",
    "for user, hotel in zip(all_activity['user'], all_activity['hotel']):\n",
    "    if user in train_users:\n",
    "        train_activity.append((user, hotel))\n",
    "    else:\n",
    "        valid_activity.append((user, hotel))\n",
    "        \n",
    "# Let's make the naive dataset\n",
    "def one_hot(category, rind):\n",
    "    encoded = np.zeros((1,len(rind)))\n",
    "    encoded[:,rind[category]] = 1\n",
    "    return encoded\n",
    "\n",
    "\n",
    "def make_data_naive(user_set):\n",
    "    data = []\n",
    "    ratings = []\n",
    "    for user in train_users:\n",
    "        # make a feature matrix of users gender and continent\n",
    "        feature_vec = np.hstack([one_hot(user_props_mat[user]['gender'], gender_rind),\n",
    "                                 one_hot(user_props_mat[user]['cont'], continents_rind)])\n",
    "        rating = np.average([hotel_rating_map[hotel] for hotel in user_hotel_map[user]])\n",
    "        data.append(feature_vec)\n",
    "        ratings.append(rating)\n",
    "    return np.vstack(data), np.vstack(ratings)\n",
    "naive_train_data = make_data_naive(train_users)\n",
    "naive_valid_data = make_data_naive(valid_users)\n",
    "\n",
    "# Let's look at the histogram of these ratings\n",
    "avg_rating_hist = np.histogram(naive_train_data[1], range=(0,5), bins=10)\n",
    "plt.bar(avg_rating_hist[1][1:], avg_rating_hist[0], width=0.35)\n",
    "# I would hypothesize that this will fail entirely. The distribution of users by avg hotel ratings \n",
    "# that they clicked on is given below, which implies to me that most of the time the model will predict the mean"
   ]
  },
  {
   "cell_type": "code",
   "execution_count": 10,
   "metadata": {
    "collapsed": false
   },
   "outputs": [
    {
     "name": "stderr",
     "output_type": "stream",
     "text": [
      "/usr/lib/python3.5/site-packages/sklearn/base.py:175: DeprecationWarning: inspect.getargspec() is deprecated, use inspect.signature() instead\n",
      "  args, varargs, kw, default = inspect.getargspec(init)\n"
     ]
    },
    {
     "data": {
      "text/plain": [
       "LinearRegression(copy_X=True, fit_intercept=True, n_jobs=1, normalize=True)"
      ]
     },
     "execution_count": 10,
     "metadata": {},
     "output_type": "execute_result"
    }
   ],
   "source": [
    "from sklearn.linear_model import LinearRegression\n",
    "# Predict the average rating of a hotel that a user (based solely on gender and continent) will click on\n",
    "\n",
    "rating_predictor = LinearRegression(normalize=True)\n",
    "rating_predictor.fit(*naive_train_data)"
   ]
  },
  {
   "cell_type": "code",
   "execution_count": 11,
   "metadata": {
    "collapsed": false
   },
   "outputs": [
    {
     "data": {
      "text/plain": [
       "array([[ 3.70898438],\n",
       "       [ 3.73242188],\n",
       "       [ 3.73242188],\n",
       "       ..., \n",
       "       [ 3.73242188],\n",
       "       [ 3.73242188],\n",
       "       [ 3.73242188]])"
      ]
     },
     "execution_count": 11,
     "metadata": {},
     "output_type": "execute_result"
    }
   ],
   "source": [
    "rating_predictor.score(*naive_train_data)\n",
    "rating_predictor.predict(naive_train_data[0])"
   ]
  },
  {
   "cell_type": "code",
   "execution_count": 12,
   "metadata": {
    "collapsed": false
   },
   "outputs": [
    {
     "name": "stdout",
     "output_type": "stream",
     "text": [
      "[[  2.63482494e+12   2.63482494e+12   4.41044440e+12   4.41044440e+12\n",
      "    4.41044440e+12   4.41044440e+12   4.41044440e+12   4.41044440e+12\n",
      "    4.41044440e+12]]\n"
     ]
    }
   ],
   "source": [
    "print(rating_predictor.coef_)"
   ]
  },
  {
   "cell_type": "code",
   "execution_count": 13,
   "metadata": {
    "collapsed": false
   },
   "outputs": [
    {
     "data": {
      "text/plain": [
       "0.0042538317578499907"
      ]
     },
     "execution_count": 13,
     "metadata": {},
     "output_type": "execute_result"
    }
   ],
   "source": [
    "# This probably isn't worth pursuing, it's clear that the model just predicts something very close to the\n",
    "# mean rating. Let's try a decision tree instead anyways.\n",
    "from sklearn.tree import DecisionTreeRegressor\n",
    "rating_tree = DecisionTreeRegressor()\n",
    "rating_tree.fit(*naive_train_data)\n",
    "rating_tree.score(*naive_train_data) # No better"
   ]
  },
  {
   "cell_type": "code",
   "execution_count": 14,
   "metadata": {
    "collapsed": false
   },
   "outputs": [
    {
     "data": {
      "text/plain": [
       "array([ 3.70948224,  3.72635132,  3.72635132, ...,  3.72635132,\n",
       "        3.72635132,  3.72635132])"
      ]
     },
     "execution_count": 14,
     "metadata": {},
     "output_type": "execute_result"
    }
   ],
   "source": [
    "rating_tree.predict(naive_train_data[0])"
   ]
  },
  {
   "cell_type": "code",
   "execution_count": 15,
   "metadata": {
    "collapsed": false
   },
   "outputs": [],
   "source": [
    "### Naive Collaborative Filtering attempt\n",
    "import random\n",
    "\n",
    "# We'll see how far we can get with just predicting the \"next\" hotel click by (for each user) holding out a\n",
    "# random hotel click, and using collaborative filtering to try and predict that user's next hotel click\n",
    "# this doesn't take into account user features, but it would appear that these don't correlate to particular\n",
    "# hotels anyways. The biggest issue with this is that we do not know if a user has 'passed over' a hotel or\n",
    "# instead just hasn't seen it yet. So, ultimately, this doesn't make a lot of theoretical sense since \n",
    "\n",
    "# make user-hotel matrix\n",
    "users_list = sorted(all_users['user'])\n",
    "hotels_list = sorted(all_hotels['hotel'])\n",
    "hotels_rind = {hotel:ind for ind, hotel in enumerate(hotels_list)}\n",
    "users_rind = {user:ind for ind, user in enumerate(users_list)}\n",
    "\n",
    "\n",
    "user_hotel_mat = np.zeros((len(user_hotel_map), len(hotel_user_map)))\n",
    "left_out_map = {}\n",
    "for user in user_hotel_map:\n",
    "    random.shuffle(user_hotel_map[user]) # order doesn't matter anyways\n",
    "    left_out_map[user] = user_hotel_map[user][-1] \n",
    "    # this going to be used only for the evaluation of collab filtering\n",
    "    for hotel in user_hotel_map[user]:\n",
    "        user_hotel_mat[users_rind[user], hotels_rind[hotel]] = 1\n"
   ]
  },
  {
   "cell_type": "code",
   "execution_count": 16,
   "metadata": {
    "collapsed": false
   },
   "outputs": [
    {
     "name": "stdout",
     "output_type": "stream",
     "text": [
      "1\n"
     ]
    }
   ],
   "source": [
    "import time\n",
    "def find_similar_user(user, user_hotel_mat, leave_out=None):\n",
    "    # figure out for each user how well their clicks correlate with this user's clicks\n",
    "    user_similarities = {}\n",
    "    if leave_out is not None: # for evaluation purposes\n",
    "        user_hotel_mat[users_rind[user], hotels_rind[leave_out]] = 0\n",
    "    for other_user in users_rind:\n",
    "        if other_user == user:\n",
    "            continue\n",
    "        user_similarities[other_user] = np.corrcoef(user_hotel_mat[users_rind[user],:],\n",
    "                                                    user_hotel_mat[users_rind[other_user],:])[0,1]\n",
    "    if leave_out is not None: # I'm not proud of this, but copying the matrix just to make one change is slow\n",
    "        user_hotel_mat[users_rind[user], hotels_rind[leave_out]] = 1\n",
    "    return user_similarities\n",
    "\n",
    "min_max_corr = 1\n",
    "for usr in []:\n",
    "    tic = time.time()\n",
    "    max_corr = max(find_similar_user(usr, user_hotel_mat).values())\n",
    "    toc = time.time() - tic\n",
    "    #print(\"Took %0.2f seconds\" % toc) # Note: this takes ~0.2 seconds per user, total ~15min\n",
    "    if max_corr < min_max_corr:\n",
    "        min_max_corr = max_corr\n",
    "        \n",
    "print(min_max_corr)"
   ]
  },
  {
   "cell_type": "code",
   "execution_count": 30,
   "metadata": {
    "collapsed": false
   },
   "outputs": [
    {
     "name": "stdout",
     "output_type": "stream",
     "text": [
      "0.11795774647887323\n"
     ]
    },
    {
     "name": "stderr",
     "output_type": "stream",
     "text": [
      "/usr/lib/python3.5/site-packages/numpy/lib/function_base.py:2151: RuntimeWarning: invalid value encountered in true_divide\n",
      "  return c / sqrt(multiply.outer(d, d))\n"
     ]
    }
   ],
   "source": [
    "def predict_next(user, user_hotel_mat, use_left_out=True):\n",
    "    # first find a similar user\n",
    "    if use_left_out:\n",
    "        leave_out = left_out_map[user]\n",
    "    else:\n",
    "        leave_out = None\n",
    "    similar_users = find_similar_user(user, user_hotel_mat, leave_out=leave_out)\n",
    "    # so now we'll try to fill in the non-clicks by weighting each of the similar users by their similarity\n",
    "    already_clicked_mask = [hotels_rind[hotel] for hotel in user_hotel_map[user] if (hotel != leave_out)]\n",
    "    recommendations = np.sum([user_hotel_mat[users_rind[usr]]*similar_users[usr] for usr in similar_users\n",
    "                              if (similar_users[usr] > 0)], \n",
    "                             axis=0)\n",
    "    if not isinstance(recommendations, np.ndarray):\n",
    "        return random.choice(hotels_list)\n",
    "    recommendations[already_clicked_mask] = -np.inf\n",
    "    return hotels_list[np.argmax(recommendations)]\n",
    "\n",
    "\n",
    "    \n",
    "# let's evaluate it. I'm expecting awful, terrible, I mean really bad results\n",
    "correct = 0\n",
    "predictions = {}\n",
    "for user in user_hotel_map:\n",
    "    next_click = predict_next(user, user_hotel_mat)\n",
    "    predictions[user] = next_click\n",
    "    #print(\"User %s: predicted: %s, true: %s\" % (user, next_click, left_out_map[user]))\n",
    "    if next_click == left_out_map[user]:\n",
    "        correct += 1\n",
    "print(correct / len(user_hotel_map))"
   ]
  },
  {
   "cell_type": "code",
   "execution_count": 33,
   "metadata": {
    "collapsed": false
   },
   "outputs": [
    {
     "data": {
      "text/plain": [
       "<Container object of 66 artists>"
      ]
     },
     "execution_count": 33,
     "metadata": {},
     "output_type": "execute_result"
    },
    {
     "data": {
      "image/png": "[encoded data removed]",
      "text/plain": [
       "<matplotlib.figure.Figure at 0x7f94cdd71828>"
      ]
     },
     "metadata": {},
     "output_type": "display_data"
    }
   ],
   "source": [
    "# let's look at a histogram of the predictions\n",
    "pred_hist = np.histogram(list(map(int, predictions.values())), range=(1,67), bins=66)\n",
    "plt.bar(pred_hist[1][:-1], pred_hist[0])"
   ]
  },
  {
   "cell_type": "code",
   "execution_count": 34,
   "metadata": {
    "collapsed": false
   },
   "outputs": [
    {
     "data": {
      "text/plain": [
       "<Container object of 66 artists>"
      ]
     },
     "execution_count": 34,
     "metadata": {},
     "output_type": "execute_result"
    },
    {
     "data": {
      "image/png": "[encoded data removed]",
      "text/plain": [
       "<matplotlib.figure.Figure at 0x7f94cdcfcf28>"
      ]
     },
     "metadata": {},
     "output_type": "display_data"
    }
   ],
   "source": [
    "gt_hist = np.histogram(list(map(int, left_out_map.values())), range=(1,67), bins=66)\n",
    "plt.bar(gt_hist[1][:-1], gt_hist[0])"
   ]
  },
  {
   "cell_type": "code",
   "execution_count": 47,
   "metadata": {
    "collapsed": false
   },
   "outputs": [
    {
     "name": "stdout",
     "output_type": "stream",
     "text": [
      "[56.0, 39.0, 17.0, 60.0, 6.0]\n"
     ]
    }
   ],
   "source": [
    "# So presumably the more popular hotels were predicted more often (since they appear in the 'left-out' more often)\n",
    "# We can check this real quick\n",
    "\n",
    "top5_pred = sorted(pred_hist[1][:-1], key=lambda x: -pred_hist[0][int(x)-1])[:5]\n",
    "print(top5_pred)"
   ]
  },
  {
   "cell_type": "code",
   "execution_count": 48,
   "metadata": {
    "collapsed": false
   },
   "outputs": [
    {
     "data": {
      "text/plain": [
       "['56', '60', '17', '37', '39']"
      ]
     },
     "execution_count": 48,
     "metadata": {},
     "output_type": "execute_result"
    }
   ],
   "source": [
    "sorted(hotel_user_map.keys(), key=lambda x: -len(hotel_user_map[x]))[:5]"
   ]
  },
  {
   "cell_type": "markdown",
   "metadata": {},
   "source": [
    "Overall this naive collaborative filtering approach does significantly better than a random prediction (which isn't saying much) but since we don't know the true ordering of the clicks it's hard to say if the 'leave out' method of evaluation is a good way to evaluate how well it will do on predicting the true 'next click'.\n",
    "\n",
    "Additionally, a way to incorporate the star ratings would be useful. I would argue (based on the attempt at predicting average hotel rating clicked on) that the continent and gender aren't terribly predictive, but it would surprise me if the ratings of hotels that a user had _previously_ clicked on couldn't be incorporated in a useful way."
   ]
  }
 ],
 "metadata": {
  "kernelspec": {
   "display_name": "Python 3",
   "language": "python",
   "name": "python3"
  },
  "language_info": {
   "codemirror_mode": {
    "name": "ipython",
    "version": 3
   },
   "file_extension": ".py",
   "mimetype": "text/x-python",
   "name": "python",
   "nbconvert_exporter": "python",
   "pygments_lexer": "ipython3",
   "version": "3.5.0"
  }
 },
 "nbformat": 4,
 "nbformat_minor": 0
}
